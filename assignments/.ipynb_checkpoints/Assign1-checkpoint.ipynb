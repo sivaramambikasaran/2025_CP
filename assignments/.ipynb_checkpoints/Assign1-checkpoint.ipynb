{
 "cells": [
  {
   "cell_type": "markdown",
   "id": "9aad3460",
   "metadata": {},
   "source": [
    "1. Consider the following integral: $$I_n = \\displaystyle \\int_0^1 x^{2n} \\sin(\\pi x) dx$$\n",
    "    * Obtain a recurrence for $I_n$ in terms of $I_{n-1}$. (HINT: Integration by parts)\n",
    "    * Evaluate $I_0$ by hand\n",
    "    c. Use the recurrence to obtain $I_n$ for $n \\in \\{1,2,\\ldots,20\\}$ in python.\n",
    "    d. Obtain the integral using the builtin {\\color{magenta}\\textbf{scipy.integrate.quad}} command in python and compare the results to above.\n",
    "    e. Explain your observation. We will see later in this course how to evaluate integrals to high accuracy."
   ]
  },
  {
   "cell_type": "code",
   "execution_count": null,
   "id": "b7ab9304",
   "metadata": {},
   "outputs": [],
   "source": []
  }
 ],
 "metadata": {
  "kernelspec": {
   "display_name": "Python 3 (ipykernel)",
   "language": "python",
   "name": "python3"
  },
  "language_info": {
   "codemirror_mode": {
    "name": "ipython",
    "version": 3
   },
   "file_extension": ".py",
   "mimetype": "text/x-python",
   "name": "python",
   "nbconvert_exporter": "python",
   "pygments_lexer": "ipython3",
   "version": "3.9.13"
  }
 },
 "nbformat": 4,
 "nbformat_minor": 5
}
