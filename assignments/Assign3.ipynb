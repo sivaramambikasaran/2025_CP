{
 "cells": [
  {
   "cell_type": "markdown",
   "id": "01b19550",
   "metadata": {},
   "source": [
    "1. Recall the coffee-cooling problem discussed in class. In this assignment, let's assume that the cooling rate $r$ is not a constant but decays with time as $r(t) = \\exp(-\\alpha t^2)$. Take the initial temperature of the coffee-cup to be $85^{\\circ}$C and the surrounding temperature to be $25^{\\circ}$C. Explore the solution for values $\\alpha \\in \\{0,1,2,3\\}$ per sq. minute. Note that $\\alpha = 0$ should give us the solution for constant decay rate."
   ]
  },
  {
   "cell_type": "markdown",
   "id": "c3f117bd",
   "metadata": {},
   "source": [
    "2. Find the most accurate formula for the first derivative of the function $f$ at $x_i$ utilising known values of $f$ at $x_{i-1},x_i,x_{i+1}$ and $x_{i+2}$. The points are uniformly spaced. Give the leading error term and state the order of the method."
   ]
  },
  {
   "cell_type": "markdown",
   "id": "41a066cf",
   "metadata": {},
   "source": [
    "3. A general Pad\\'e type boundary scheme (at $i=0$) for the first derivative which doesn't alter the tridiagonal structure of the matrix can be written as\n",
    "    $f_0'+\\alpha f_1' = \\dfrac1h \\left(af_0+bf_1+cf_2+df_3\\right)$\n",
    "    * Obtain $a,b,c,d$ in terms of $\\alpha$ so that the scheme is at least third-order accurate.\n",
    "\t* Which $\\alpha$ would you choose and why?\n",
    "\t* Find all the coefficients so that the scheme would be fourth-order accurate."
   ]
  },
  {
   "cell_type": "markdown",
   "id": "9815023e",
   "metadata": {},
   "source": [
    "4. In numerical solution of boundary value problems in differential equations, we can sometimes use the physics of the problem not only to enforce the boundary conditions but also to maintain high-order accuracy near the boundary. Suppose we want to numerically solve the following boundary value problem $\\displaystyle\\frac{d^2y}{dx^2}+y = x^3$ where $0\\leq x \\leq 1$ with Neumann boundary conditions $y'(0) = y'(1) = 0$.\n",
    "* Discretize the domain using grid points $x_i = (i-0.5)h$, $i \\in \\{1,2,\\ldots,N\\}$. Note that there are no grid points on the boundaries. In this problem, $y_i$ is the numerical estimate of $y$ at $x_i$.\n",
    "* By using a finite difference scheme, we can estimate $y_i''$ in terms of linear combinations of $y_i$'s and transform the ODE into a linear system of equations. Use the Pad\\'e formula for the interior points.\n",
    "* For the left boundary, derive a third order Pad\\'e scheme to approximate $y_0''$ in the following form: $y_1''+b_2y_2'' = a_1y_1 + a_2y_2 + a_3y_3 + a_4y_b' + \\mathcal{O}\\left(h^3 \\right)$ where $y_b' = y'(0)$, which is known from the boundary condition at $x=0$.\n",
    "* Repeat the previous step for the right boundary.\n",
    "* Using the finite difference formulae derived above, we can write the following linear relation: $A \\begin{bmatrix}\n",
    "\t\t\ty_1''\\\\\n",
    "\t\t\ty_2''\\\\\n",
    "\t\t\t\\vdots\\\\\n",
    "\t\t\ty_N''\n",
    "\t\t\t\\end{bmatrix}\n",
    "\t\t\t=B \\begin{bmatrix}\n",
    "\t\t\ty_1\\\\\n",
    "\t\t\ty_2\\\\\n",
    "\t\t\t\\vdots\\\\\n",
    "\t\t\ty_N\n",
    "\t\t\t\\end{bmatrix}$\n",
    "* What are the elements of the matrices $A$ and $B$ operating on the interior and boundary nodes?\n",
    "* Use this relationship to transform the ODE into a system with $y_i$'s as unknowns. Use $N=24$ and solve this system. Do you actually have to invert $A$?\n",
    "* Plot the exact and numerical solutions. Discuss your result. How are the Neumann boundary conditions enforced into the discretized boundary value problem?"
   ]
  },
  {
   "cell_type": "code",
   "execution_count": null,
   "id": "5f10ec1e",
   "metadata": {},
   "outputs": [],
   "source": []
  }
 ],
 "metadata": {
  "kernelspec": {
   "display_name": "Python 3 (ipykernel)",
   "language": "python",
   "name": "python3"
  },
  "language_info": {
   "codemirror_mode": {
    "name": "ipython",
    "version": 3
   },
   "file_extension": ".py",
   "mimetype": "text/x-python",
   "name": "python",
   "nbconvert_exporter": "python",
   "pygments_lexer": "ipython3",
   "version": "3.9.13"
  }
 },
 "nbformat": 4,
 "nbformat_minor": 5
}
