{
 "cells": [
  {
   "cell_type": "markdown",
   "id": "32c470f8",
   "metadata": {},
   "source": [
    "# Assignment 2"
   ]
  },
  {
   "cell_type": "markdown",
   "id": "2b2ab582",
   "metadata": {},
   "source": [
    "1. Define the Wronskian $ w(y_1, y_2) $ of any two continuous functions $ y_1 $ and $ y_2 $ defined in an interval $ (a, b) \\subset \\mathbb{R} $. Show that $ w(y_1, y_2) = 0 $ if $ y_1 $ and $ y_2 $ are linearly dependent. If $ y_1 $ and $ y_2 $ are any two solutions of a second order linear homogeneous ordinary differential equation defined in an interval $ (a, b) \\subset \\mathbb{R} $, then $ w(y_1, y_2) $ is either identically zero or non-zero at any point of the interval."
   ]
  },
  {
   "cell_type": "markdown",
   "id": "1f04b6d1",
   "metadata": {},
   "source": [
    "2. If $ y_1 $ and $ y_2 $ are two linearly independent solutions of a second order linear homogeneous ODE, then prove that $ y = c_1 y_1 + c_2 y_2 $, where $ c_1 $ and $ c_2 $ are constants, is a general solution."
   ]
  },
  {
   "cell_type": "markdown",
   "id": "c16113f4",
   "metadata": {},
   "source": [
    "3. Find the general solution of the following second order equations using the given known solution $y_1$\n",
    "\n",
    "* $ x^2 \\frac{d^2 y}{dx^2} + x \\frac{dy}{dx} - y = 0 \\quad \\text{where } y_1(x) = x $\n",
    "* $ x^2 \\frac{d^2 y}{dx^2} + x \\frac{dy}{dx} - 4y = 0 \\quad \\text{where } y_1(x) = x^2 $\n",
    "* $ (x - 1) \\frac{d^2 y}{dx^2} - x \\frac{dy}{dx} + y = 0 \\quad \\text{where } y_1(x) = x $\n",
    "* $ x \\frac{d^2 y}{dx^2} - (2x + 1) \\frac{dy}{dx} + (x + 1)y = 0 \\quad \\text{where } y_1(x) = e^x $"
   ]
  },
  {
   "cell_type": "markdown",
   "id": "7e2dd689",
   "metadata": {},
   "source": [
    "4. Find the general solution of each of the following equations ($ D^n \\equiv \\frac{d^n}{dx^n} $)\n",
    "\n",
    "* $ (D^4 - 81)y = 0 $\n",
    "* $ (D^3 - 4D^2 + 5D - 2)y = 0 $\n",
    "* $ (D^4 + 2D^3 + 3D^2 + 2D + 1)y = 0 $\n",
    "* $ (D^2 - 3D - 6)y = 3 \\sin 2x $\n",
    "* $ (D^2 + 1)y = 2 \\cos x $\n",
    "* $ (D^2 - 3D + 2)y = (4x + 5)e^{3x} $"
   ]
  },
  {
   "cell_type": "markdown",
   "id": "786e5571",
   "metadata": {},
   "source": [
    "5. Solve using the method of variation of parameters ($ D^n \\equiv \\frac{d^n}{dx^n} $)\n",
    "\n",
    "* $ (D^2 + 1)y = \\csc x $\n",
    "* $ (D^2 - D - 6)y = e^{-x} $\n",
    "* $ (D^2 + a^2)y = \\tan (a x) $\n",
    "* $ x^2 y'' - 4x y' + 6y = 21x^{-4} $\n",
    "* $ x^2 y'' - 2x y' + 2y = x^3 \\cos x $"
   ]
  },
  {
   "cell_type": "markdown",
   "id": "f8513c1c",
   "metadata": {},
   "source": [
    "6. Solve using the method of undetermined coefficients ($ D^n \\equiv \\frac{d^n}{dx^n} $)\n",
    "\n",
    "* $ (D^3 - 2D^2 - 5D + 6)y = 18e^x $\n",
    "* $ (D^2 + 25)y = 50 \\cos 5x + 30 \\sin 5x $\n",
    "* $ (D^3 - 2D^2 + 4D - 8)y = 8(x^2 + \\cos 2x) $"
   ]
  },
  {
   "cell_type": "markdown",
   "id": "0ccc384b",
   "metadata": {},
   "source": [
    "7. Show that the general solution of $ L(y) = f_1(x) + f_2(x) $, where $ L(y) $ is a linear differential operator, is $ y = \\bar{y} + y^* $, where $ \\bar{y} $ is the general solution of $ L(y) = 0 $ and $ y^* $ is the sum of any particular solutions of $ L(y) = f_1(x) $ and $ L(y) = f_2(x) $."
   ]
  },
  {
   "cell_type": "markdown",
   "id": "700fa038",
   "metadata": {},
   "source": [
    "8. Solve the following using Frobenius method\n",
    "* $9x(1-x)y\"-12y'+4y = 0$\n",
    "* $2x^2y\"+xy'-(x^2+1)y = 0$\n",
    "* $x^2 y\" + 6xy'+(6+x^2)y = 0$"
   ]
  }
 ],
 "metadata": {
  "kernelspec": {
   "display_name": "Python 3 (ipykernel)",
   "language": "python",
   "name": "python3"
  },
  "language_info": {
   "codemirror_mode": {
    "name": "ipython",
    "version": 3
   },
   "file_extension": ".py",
   "mimetype": "text/x-python",
   "name": "python",
   "nbconvert_exporter": "python",
   "pygments_lexer": "ipython3",
   "version": "3.9.13"
  }
 },
 "nbformat": 4,
 "nbformat_minor": 5
}
