{
 "cells": [
  {
   "cell_type": "markdown",
   "id": "a1f2d17b",
   "metadata": {},
   "source": [
    "# Assignment 1"
   ]
  },
  {
   "cell_type": "markdown",
   "id": "c89a42c2",
   "metadata": {},
   "source": [
    "1. Consider the following integral: $$I_n = \\displaystyle \\int_0^1 x^{2n} \\sin(\\pi x) dx$$\n",
    "    * Obtain a recurrence for $I_n$ in terms of $I_{n-1}$. (HINT: Integration by parts)\n",
    "    * Evaluate $I_0$ by hand\n",
    "    * Use the recurrence to obtain $I_n$ for $n \\in \\{1,2,\\ldots,20\\}$ in python.\n",
    "    * Obtain the integral using the builtin <code style=\"color : blue\">scipy.integrate.quad</code> command in python and compare the results to above.\n",
    "    * Explain your observation. We will see later in this course how to evaluate integrals to high accuracy."
   ]
  },
  {
   "cell_type": "markdown",
   "id": "024fd3e9",
   "metadata": {},
   "source": [
    "2. Solve the following differential equations:\n",
    "* $xy'+y = x^3y^6$\n",
    "* $xy^2y'+y^3 = x \\cos(x)$\n",
    "* $xy'+y = y^2 \\cos(x)$\n",
    "* $(x^2y^3+xy)y' = 1$\n",
    "* $y' + (2x\\arctan(y)-x^3)(1+y^2) = 0$\n",
    "* $(x^2+y)dx+(y^3+x)dy = 0$\n",
    "* $(1+\\exp(x/y))dx + \\exp(x/y)(1-x/y)dy = 0$\n",
    "* $(y^2 e^{x y^2} + 4x^3)dx + (2x y e^{x y^2} - 3y^2)dy = 0$\n",
    "* $(x\\,dx + y\\,dy)(x^2 + y^2) = y\\,dx - x\\,dy$\n",
    "* $y \\cos(x)dx + 2 \\sin(x)dy = 0$\n",
    "* $x\\,dy + y\\,dx + 3x^3 y^4 dy = 0$\n",
    "* $(1 + xy)y\\,dx + (1 - xy)x\\,dy = 0$\n",
    "* $(y^4 + 2y)dx + (x y^3 + 2y^4 - 4x)dy = 0$\n",
    "* $(xy - 1)dx + (x^2 - xy)dy = 0$"
   ]
  },
  {
   "cell_type": "markdown",
   "id": "9c58ef70",
   "metadata": {},
   "source": [
    "3. Find the curve passing through the point (1, 0) and having at each of its points the slope $-\\frac{x}{y}$\n"
   ]
  },
  {
   "cell_type": "markdown",
   "id": "bc2af9ec",
   "metadata": {},
   "source": [
    "4. Solve the following initial value problem (IVP):\n",
    "* $\\frac{dy}{dx} = 2y + e^{2x}, \\quad y(0) = 3$\n",
    "* $\\frac{dy}{dx} = 3y + 2e^{3x}, \\quad y(0) = 2$\n",
    "* $\\frac{dy}{dx} = y \\tan(x) + \\sec(x), \\quad y(0) = -1$\n",
    "* $\\frac{dy}{dx} = \\frac{2}{x}y + x, \\quad y(1) = 2$"
   ]
  }
 ],
 "metadata": {
  "kernelspec": {
   "display_name": "Python 3 (ipykernel)",
   "language": "python",
   "name": "python3"
  },
  "language_info": {
   "codemirror_mode": {
    "name": "ipython",
    "version": 3
   },
   "file_extension": ".py",
   "mimetype": "text/x-python",
   "name": "python",
   "nbconvert_exporter": "python",
   "pygments_lexer": "ipython3",
   "version": "3.9.13"
  }
 },
 "nbformat": 4,
 "nbformat_minor": 5
}
