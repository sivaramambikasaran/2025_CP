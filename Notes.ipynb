{
 "cells": [
  {
   "cell_type": "markdown",
   "id": "a58377b5",
   "metadata": {},
   "source": [
    "# Introduction\n",
    "\n",
    "Traditionally, the laws of physics are frequently for formulated within the mathematical framework of differential equations. The point of this course is to look at classical methods for solving differential equations. This will include constructing exact solutions (mostly for \"simple\" differential equations) and constructing \"arbitrarily accurate\" numerical solutions. We will begin the discussion with ordinary differential equations and then move on to partial differential equations. For the computing part of the course, we will be relying on python. Why python? Because it is popular and learning/using python is a useful skill to possess. A simple way to get going with python is to download and install \"Anaconda\", an open source data science and artificial intelligence distribution platform for Python and other languages.\n",
    "\n",
    "For the sake of simplicity, we will start with the simplest differential equation, a first-order differential equation. There are a lot of topics that involve first-order equations. Examples include cooling of hot bodies, the Fourier law of heat transfer, decay of radioactive nuclei, etc. We begin with the coffee cooling problem dating back to the time of Newton.\n"
   ]
  },
  {
   "cell_type": "markdown",
   "id": "179251e3",
   "metadata": {},
   "source": [
    "## Coffee cooling problem\n",
    "\n",
    "When a cup of hot coffee is placed on a table, it gradually cools down until it reaches the ambient room temperature. Experimental observations of the coffee's temperature over time reveal that this cooling process closely follows an exponential decay curve.\n",
    "\n",
    "Although the transfer of heat from the coffee to the surrounding air involves a combination of convection, radiation, and conduction, the process can be simplified under certain conditions. Specifically, if the temperature difference between the coffee and the environment is relatively small, the rate at which the coffee cools can be assumed to be directly proportional to that temperature difference. More so, if we are only looking at the temperature on the external walls of the coffee cup.\n",
    "\n",
    "This relationship is expressed mathematically by the differential equation:\n",
    "\n",
    "$$\\displaystyle\\frac{dT}{dt} = -r(T-T_s)$$ where $T$ is the temperature on the external wall of the coffee cup, $T_s$ is the temperature of the surroundings and $r$ is a positive constant indicating the rate of heat transfer in air. The above equation is known as **Newton's law of cooling**"
   ]
  },
  {
   "cell_type": "code",
   "execution_count": 3,
   "id": "ba6474b1",
   "metadata": {},
   "outputs": [
    {
     "ename": "NameError",
     "evalue": "name 'zeros' is not defined",
     "output_type": "error",
     "traceback": [
      "\u001b[0;31m---------------------------------------------------------------------------\u001b[0m",
      "\u001b[0;31mNameError\u001b[0m                                 Traceback (most recent call last)",
      "\u001b[0;32m/var/folders/vr/fvg4z5g17m901khh3t727y4r0000gn/T/ipykernel_2550/3236567502.py\u001b[0m in \u001b[0;36m<module>\u001b[0;34m\u001b[0m\n\u001b[0;32m----> 1\u001b[0;31m \u001b[0mI\u001b[0m \u001b[0;34m=\u001b[0m \u001b[0mzeros\u001b[0m\u001b[0;34m(\u001b[0m\u001b[0;36m20\u001b[0m\u001b[0;34m,\u001b[0m\u001b[0;36m1\u001b[0m\u001b[0;34m)\u001b[0m\u001b[0;34m\u001b[0m\u001b[0;34m\u001b[0m\u001b[0m\n\u001b[0m",
      "\u001b[0;31mNameError\u001b[0m: name 'zeros' is not defined"
     ]
    }
   ],
   "source": [
    "I = zeros(20,1)"
   ]
  },
  {
   "cell_type": "code",
   "execution_count": 7,
   "id": "1f54ebb2",
   "metadata": {},
   "outputs": [
    {
     "name": "stdout",
     "output_type": "stream",
     "text": [
      "n        Recurrence       Numerical       Abs Error\n",
      "==================================================\n",
      "0      0.6366197724    0.6366197724        0.00e+00\n",
      "1      0.1893037485    0.1893037485        2.78e-17\n",
      "2      0.0881441279    0.0881441279        1.39e-17\n",
      "3      0.0503838652    0.0503838652        4.86e-17\n",
      "4      0.0324325259    0.0324325259        1.80e-16\n",
      "5      0.0225607138    0.0225607138        1.86e-15\n",
      "6      0.0165739605    0.0165739605        2.47e-14\n",
      "7      0.0126785061    0.0126785061        4.56e-13\n",
      "8      0.0100055869    0.0100055869        1.11e-11\n",
      "9      0.0080938457    0.0080938460        3.44e-10\n",
      "10     0.0066802378    0.0066802246        1.32e-08\n",
      "11     0.0056053703    0.0056059899        6.20e-07\n",
      "12     0.0048054841    0.0047708304        3.47e-05\n",
      "13     0.0018266158    0.0041088687        2.28e-03\n",
      "14     0.1783932782    0.0035754128        1.75e-01\n",
      "15   -15.4069558613    0.0031392871        1.54e+01\n"
     ]
    }
   ],
   "source": [
    "import math\n",
    "from scipy.integrate import quad\n",
    "\n",
    "def compute_recurrence_integrals(n_max):\n",
    "    pi = math.pi\n",
    "    I = [0] * (n_max + 1)\n",
    "    I[0] = 2 / pi\n",
    "    for n in range(1, n_max + 1):\n",
    "        I[n] = (1 / pi) - (2 * n * (2 * n - 1) / pi**2) * I[n - 1]\n",
    "    return I\n",
    "\n",
    "def compute_numerical_integrals(n_max):\n",
    "    numerical = []\n",
    "    for n in range(n_max + 1):\n",
    "        integrand = lambda x: x**(2*n) * math.sin(math.pi * x)\n",
    "        val, _ = quad(integrand, 0, 1)\n",
    "        numerical.append(val)\n",
    "    return numerical\n",
    "\n",
    "# Compare up to n = 10\n",
    "n_max = 15\n",
    "recurrence_results = compute_recurrence_integrals(n_max)\n",
    "numerical_results = compute_numerical_integrals(n_max)\n",
    "\n",
    "# Print a comparison\n",
    "print(f\"{'n':<3} {'Recurrence':>15} {'Numerical':>15} {'Abs Error':>15}\")\n",
    "print(\"=\" * 50)\n",
    "for n in range(n_max + 1):\n",
    "    rec = recurrence_results[n]\n",
    "    num = numerical_results[n]\n",
    "    error = abs(rec - num)\n",
    "    print(f\"{n:<3} {rec:15.10f} {num:15.10f} {error:15.2e}\")\n"
   ]
  },
  {
   "cell_type": "markdown",
   "id": "115b6fc0",
   "metadata": {},
   "source": [
    "Let's try to add $1+1$ using python"
   ]
  },
  {
   "cell_type": "code",
   "execution_count": 1,
   "id": "e47dd494",
   "metadata": {},
   "outputs": [
    {
     "data": {
      "text/plain": [
       "2"
      ]
     },
     "execution_count": 1,
     "metadata": {},
     "output_type": "execute_result"
    }
   ],
   "source": [
    "1+1"
   ]
  },
  {
   "cell_type": "code",
   "execution_count": 2,
   "id": "cb128331",
   "metadata": {},
   "outputs": [
    {
     "name": "stdout",
     "output_type": "stream",
     "text": [
      "0\n",
      "1\n",
      "2\n",
      "3\n",
      "4\n",
      "5\n",
      "6\n",
      "7\n",
      "8\n",
      "9\n"
     ]
    }
   ],
   "source": [
    "for i in range(10):\n",
    "    print(i)"
   ]
  },
  {
   "cell_type": "code",
   "execution_count": null,
   "id": "2cc9deb0",
   "metadata": {},
   "outputs": [],
   "source": []
  }
 ],
 "metadata": {
  "kernelspec": {
   "display_name": "Python 3 (ipykernel)",
   "language": "python",
   "name": "python3"
  },
  "language_info": {
   "codemirror_mode": {
    "name": "ipython",
    "version": 3
   },
   "file_extension": ".py",
   "mimetype": "text/x-python",
   "name": "python",
   "nbconvert_exporter": "python",
   "pygments_lexer": "ipython3",
   "version": "3.9.13"
  }
 },
 "nbformat": 4,
 "nbformat_minor": 5
}
