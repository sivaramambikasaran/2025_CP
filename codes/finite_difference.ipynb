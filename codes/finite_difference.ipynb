import numpy as np
import matplotlib.pyplot as plt

# Define the function
def f(x):
    return np.sin(x) / (x**3)

# Exact derivative (for reference)
def fprime_exact(x):
    return (x*np.cos(x) - 3*np.sin(x)) / (x**4)

# Numerical differentiation methods
def forward_diff(f, x, h):
    return (f(x + h) - f(x)) / h

def central_diff_2(f, x, h):
    return (f(x + h) - f(x - h)) / (2*h)

def central_diff_4(f, x, h):
    return (-f(x + 2*h) + 8*f(x + h) - 8*f(x - h) + f(x - 2*h)) / (12*h)

# Point of interest
x0 = 4.0
exact = fprime_exact(x0)

print(f"Exact derivative at x={x0}: {exact:.12f}\n")

# Arrays to store results
hs = []
err_forward = []
err_central2 = []
err_central4 = []

# Loop over grid spacings
print(f"{'h':>12} {'Forward O(h)':>18} {'Central O(h^2)':>18} {'Central O(h^4)':>18}")
for k in range(20, -1, -1):
    h = 2.0**(-k)
    d_forward = forward_diff(f, x0, h)
    d_central2 = central_diff_2(f, x0, h)
    d_central4 = central_diff_4(f, x0, h)

    # errors
    err_forward.append(abs(d_forward - exact))
    err_central2.append(abs(d_central2 - exact))
    err_central4.append(abs(d_central4 - exact))
    hs.append(h)

    print(f"{h:12.2e} {d_forward:18.12f} {d_central2:18.12f} {d_central4:18.12f}")

# Plot convergence rates
plt.figure(figsize=(7,5))
plt.loglog(hs, err_forward, 'o-', label="Forward O(h)")
plt.loglog(hs, err_central2, 's-', label="Central O(h^2)")
plt.loglog(hs, err_central4, 'd-', label="Central O(h^4)")

# Add reference slopes
plt.loglog(hs, [0.05*h for h in hs], 'k--', alpha=0.5, label="O(h)")
plt.loglog(hs, [0.02*h**2 for h in hs], 'k-.', alpha=0.5, label="O(h^2)")
plt.loglog(hs, [0.01*h**4 for h in hs], 'k:', alpha=0.5, label="O(h^4)")

plt.xlabel("Grid spacing h")
plt.ylabel("Absolute error")
plt.title("Convergence of Finite Difference Approximations")
plt.legend()
plt.grid(True, which="both", ls="--")
plt.show()
